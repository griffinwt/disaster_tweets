{
 "cells": [
  {
   "cell_type": "code",
   "execution_count": 13,
   "metadata": {},
   "outputs": [],
   "source": [
    "#imports\n",
    "from scipy.stats import ttest_ind\n",
    "import pandas as pd\n",
    "import numpy as np\n",
    "from scipy import stats\n",
    "import seaborn as sns\n",
    "import matplotlib.pyplot as plt\n",
    "import re\n",
    "#week 3\n",
    "from sklearn.linear_model import LinearRegression\n",
    "from sklearn import metrics\n",
    "import statsmodels.api as sm\n",
    "from sklearn.model_selection import train_test_split, cross_val_score\n",
    "from sklearn.preprocessing import StandardScaler, PolynomialFeatures\n",
    "#week 4\n",
    "from sklearn.linear_model import Ridge\n",
    "from sklearn.linear_model import RidgeCV\n",
    "from sklearn.linear_model import Lasso, LassoCV\n",
    "from sklearn.linear_model import LogisticRegression\n",
    "from sklearn.model_selection import train_test_split, GridSearchCV\n",
    "from sklearn.preprocessing import StandardScaler\n",
    "from sklearn.neighbors import KNeighborsClassifier\n",
    "from sklearn.pipeline import Pipeline\n",
    "from nltk.corpus import stopwords\n",
    "from nltk.stem import WordNetLemmatizer\n",
    "from nltk.tokenize import RegexpTokenizer\n",
    "from sklearn.feature_extraction.text import CountVectorizer, TfidfVectorizer\n",
    "\n",
    "import p3_utils as ut"
   ]
  },
  {
   "cell_type": "code",
   "execution_count": 14,
   "metadata": {},
   "outputs": [],
   "source": [
    "df = pd.read_csv('training_clean_2.csv')"
   ]
  },
  {
   "cell_type": "code",
   "execution_count": 15,
   "metadata": {},
   "outputs": [
    {
     "data": {
      "text/html": [
       "<div>\n",
       "<style scoped>\n",
       "    .dataframe tbody tr th:only-of-type {\n",
       "        vertical-align: middle;\n",
       "    }\n",
       "\n",
       "    .dataframe tbody tr th {\n",
       "        vertical-align: top;\n",
       "    }\n",
       "\n",
       "    .dataframe thead th {\n",
       "        text-align: right;\n",
       "    }\n",
       "</style>\n",
       "<table border=\"1\" class=\"dataframe\">\n",
       "  <thead>\n",
       "    <tr style=\"text-align: right;\">\n",
       "      <th></th>\n",
       "      <th>id</th>\n",
       "      <th>keyword</th>\n",
       "      <th>location</th>\n",
       "      <th>text</th>\n",
       "      <th>target</th>\n",
       "      <th>all_text</th>\n",
       "    </tr>\n",
       "  </thead>\n",
       "  <tbody>\n",
       "    <tr>\n",
       "      <th>0</th>\n",
       "      <td>1</td>\n",
       "      <td>NaN</td>\n",
       "      <td>NaN</td>\n",
       "      <td>Our Deeds are the Reason of this #earthquake M...</td>\n",
       "      <td>1</td>\n",
       "      <td>Our Deeds are the Reason of this #earthquake...</td>\n",
       "    </tr>\n",
       "    <tr>\n",
       "      <th>1</th>\n",
       "      <td>4</td>\n",
       "      <td>NaN</td>\n",
       "      <td>NaN</td>\n",
       "      <td>Forest fire near La Ronge Sask. Canada</td>\n",
       "      <td>1</td>\n",
       "      <td>Forest fire near La Ronge Sask. Canada</td>\n",
       "    </tr>\n",
       "    <tr>\n",
       "      <th>2</th>\n",
       "      <td>5</td>\n",
       "      <td>NaN</td>\n",
       "      <td>NaN</td>\n",
       "      <td>All residents asked to 'shelter in place' are ...</td>\n",
       "      <td>1</td>\n",
       "      <td>All residents asked to 'shelter in place' ar...</td>\n",
       "    </tr>\n",
       "    <tr>\n",
       "      <th>3</th>\n",
       "      <td>6</td>\n",
       "      <td>NaN</td>\n",
       "      <td>NaN</td>\n",
       "      <td>13,000 people receive #wildfires evacuation or...</td>\n",
       "      <td>1</td>\n",
       "      <td>13,000 people receive #wildfires evacuation ...</td>\n",
       "    </tr>\n",
       "    <tr>\n",
       "      <th>4</th>\n",
       "      <td>7</td>\n",
       "      <td>NaN</td>\n",
       "      <td>NaN</td>\n",
       "      <td>Just got sent this photo from Ruby #Alaska as ...</td>\n",
       "      <td>1</td>\n",
       "      <td>Just got sent this photo from Ruby #Alaska a...</td>\n",
       "    </tr>\n",
       "  </tbody>\n",
       "</table>\n",
       "</div>"
      ],
      "text/plain": [
       "   id keyword location                                               text  \\\n",
       "0   1     NaN      NaN  Our Deeds are the Reason of this #earthquake M...   \n",
       "1   4     NaN      NaN             Forest fire near La Ronge Sask. Canada   \n",
       "2   5     NaN      NaN  All residents asked to 'shelter in place' are ...   \n",
       "3   6     NaN      NaN  13,000 people receive #wildfires evacuation or...   \n",
       "4   7     NaN      NaN  Just got sent this photo from Ruby #Alaska as ...   \n",
       "\n",
       "   target                                           all_text  \n",
       "0       1    Our Deeds are the Reason of this #earthquake...  \n",
       "1       1             Forest fire near La Ronge Sask. Canada  \n",
       "2       1    All residents asked to 'shelter in place' ar...  \n",
       "3       1    13,000 people receive #wildfires evacuation ...  \n",
       "4       1    Just got sent this photo from Ruby #Alaska a...  "
      ]
     },
     "execution_count": 15,
     "metadata": {},
     "output_type": "execute_result"
    }
   ],
   "source": [
    "df.head()"
   ]
  },
  {
   "cell_type": "code",
   "execution_count": 16,
   "metadata": {},
   "outputs": [],
   "source": [
    "train = df[['all_text', 'target']].copy()"
   ]
  },
  {
   "cell_type": "code",
   "execution_count": 17,
   "metadata": {},
   "outputs": [
    {
     "data": {
      "text/html": [
       "<div>\n",
       "<style scoped>\n",
       "    .dataframe tbody tr th:only-of-type {\n",
       "        vertical-align: middle;\n",
       "    }\n",
       "\n",
       "    .dataframe tbody tr th {\n",
       "        vertical-align: top;\n",
       "    }\n",
       "\n",
       "    .dataframe thead th {\n",
       "        text-align: right;\n",
       "    }\n",
       "</style>\n",
       "<table border=\"1\" class=\"dataframe\">\n",
       "  <thead>\n",
       "    <tr style=\"text-align: right;\">\n",
       "      <th></th>\n",
       "      <th>all_text</th>\n",
       "      <th>target</th>\n",
       "    </tr>\n",
       "  </thead>\n",
       "  <tbody>\n",
       "    <tr>\n",
       "      <th>0</th>\n",
       "      <td>Our Deeds are the Reason of this #earthquake...</td>\n",
       "      <td>1</td>\n",
       "    </tr>\n",
       "    <tr>\n",
       "      <th>1</th>\n",
       "      <td>Forest fire near La Ronge Sask. Canada</td>\n",
       "      <td>1</td>\n",
       "    </tr>\n",
       "    <tr>\n",
       "      <th>2</th>\n",
       "      <td>All residents asked to 'shelter in place' ar...</td>\n",
       "      <td>1</td>\n",
       "    </tr>\n",
       "    <tr>\n",
       "      <th>3</th>\n",
       "      <td>13,000 people receive #wildfires evacuation ...</td>\n",
       "      <td>1</td>\n",
       "    </tr>\n",
       "    <tr>\n",
       "      <th>4</th>\n",
       "      <td>Just got sent this photo from Ruby #Alaska a...</td>\n",
       "      <td>1</td>\n",
       "    </tr>\n",
       "    <tr>\n",
       "      <th>...</th>\n",
       "      <td>...</td>\n",
       "      <td>...</td>\n",
       "    </tr>\n",
       "    <tr>\n",
       "      <th>7608</th>\n",
       "      <td>Two giant cranes holding a bridge collapse i...</td>\n",
       "      <td>1</td>\n",
       "    </tr>\n",
       "    <tr>\n",
       "      <th>7609</th>\n",
       "      <td>@aria_ahrary @TheTawniest The out of control...</td>\n",
       "      <td>1</td>\n",
       "    </tr>\n",
       "    <tr>\n",
       "      <th>7610</th>\n",
       "      <td>M1.94 [01:04 UTC]?5km S of Volcano Hawaii. h...</td>\n",
       "      <td>1</td>\n",
       "    </tr>\n",
       "    <tr>\n",
       "      <th>7611</th>\n",
       "      <td>Police investigating after an e-bike collide...</td>\n",
       "      <td>1</td>\n",
       "    </tr>\n",
       "    <tr>\n",
       "      <th>7612</th>\n",
       "      <td>The Latest: More Homes Razed by Northern Cal...</td>\n",
       "      <td>1</td>\n",
       "    </tr>\n",
       "  </tbody>\n",
       "</table>\n",
       "<p>7613 rows × 2 columns</p>\n",
       "</div>"
      ],
      "text/plain": [
       "                                               all_text  target\n",
       "0       Our Deeds are the Reason of this #earthquake...       1\n",
       "1                Forest fire near La Ronge Sask. Canada       1\n",
       "2       All residents asked to 'shelter in place' ar...       1\n",
       "3       13,000 people receive #wildfires evacuation ...       1\n",
       "4       Just got sent this photo from Ruby #Alaska a...       1\n",
       "...                                                 ...     ...\n",
       "7608    Two giant cranes holding a bridge collapse i...       1\n",
       "7609    @aria_ahrary @TheTawniest The out of control...       1\n",
       "7610    M1.94 [01:04 UTC]?5km S of Volcano Hawaii. h...       1\n",
       "7611    Police investigating after an e-bike collide...       1\n",
       "7612    The Latest: More Homes Razed by Northern Cal...       1\n",
       "\n",
       "[7613 rows x 2 columns]"
      ]
     },
     "execution_count": 17,
     "metadata": {},
     "output_type": "execute_result"
    }
   ],
   "source": [
    "train"
   ]
  },
  {
   "cell_type": "code",
   "execution_count": 18,
   "metadata": {},
   "outputs": [
    {
     "name": "stdout",
     "output_type": "stream",
     "text": [
      "(5709,) (5709,) (1904,) (1904,)\n"
     ]
    }
   ],
   "source": [
    "X = train['all_text']\n",
    "y = train['target']\n",
    "\n",
    "X_train, X_test, y_train, y_test = train_test_split(X,\n",
    "                                                    y,\n",
    "                                                    stratify=y, #try to keep proportion of 1 and 0 in both splits\n",
    "                                                    random_state=17) #random state for reproducability\n",
    "\n",
    "print( \n",
    "X_train.shape,\n",
    "y_train.shape,\n",
    "X_test.shape,\n",
    "y_test.shape) #verify shapes look correct"
   ]
  },
  {
   "cell_type": "code",
   "execution_count": null,
   "metadata": {},
   "outputs": [],
   "source": []
  },
  {
   "cell_type": "markdown",
   "metadata": {},
   "source": [
    "## Count Vectorizer, Naive Bayes"
   ]
  },
  {
   "cell_type": "code",
   "execution_count": 19,
   "metadata": {},
   "outputs": [
    {
     "name": "stdout",
     "output_type": "stream",
     "text": [
      "Fitting 5 folds for each of 144 candidates, totalling 720 fits\n"
     ]
    },
    {
     "name": "stderr",
     "output_type": "stream",
     "text": [
      "[Parallel(n_jobs=8)]: Using backend LokyBackend with 8 concurrent workers.\n",
      "[Parallel(n_jobs=8)]: Done  34 tasks      | elapsed:    3.8s\n",
      "[Parallel(n_jobs=8)]: Done 184 tasks      | elapsed:   12.2s\n",
      "[Parallel(n_jobs=8)]: Done 434 tasks      | elapsed:   27.3s\n",
      "[Parallel(n_jobs=8)]: Done 720 out of 720 | elapsed:   46.4s finished\n"
     ]
    },
    {
     "name": "stdout",
     "output_type": "stream",
     "text": [
      "The best parameters are: {'cvec__max_df': 0.5, 'cvec__max_features': 10000, 'cvec__min_df': 2, 'cvec__ngram_range': (1, 2), 'cvec__stop_words': ['i', 'me', 'my', 'myself', 'we', 'our', 'ours', 'ourselves', 'you', \"you're\", \"you've\", \"you'll\", \"you'd\", 'your', 'yours', 'yourself', 'yourselves', 'he', 'him', 'his', 'himself', 'she', \"she's\", 'her', 'hers', 'herself', 'it', \"it's\", 'its', 'itself', 'they', 'them', 'their', 'theirs', 'themselves', 'what', 'which', 'who', 'whom', 'this', 'that', \"that'll\", 'these', 'those', 'am', 'is', 'are', 'was', 'were', 'be', 'been', 'being', 'have', 'has', 'had', 'having', 'do', 'does', 'did', 'doing', 'a', 'an', 'the', 'and', 'but', 'if', 'or', 'because', 'as', 'until', 'while', 'of', 'at', 'by', 'for', 'with', 'about', 'against', 'between', 'into', 'through', 'during', 'before', 'after', 'above', 'below', 'to', 'from', 'up', 'down', 'in', 'out', 'on', 'off', 'over', 'under', 'again', 'further', 'then', 'once', 'here', 'there', 'when', 'where', 'why', 'how', 'all', 'any', 'both', 'each', 'few', 'more', 'most', 'other', 'some', 'such', 'no', 'nor', 'not', 'only', 'own', 'same', 'so', 'than', 'too', 'very', 's', 't', 'can', 'will', 'just', 'don', \"don't\", 'should', \"should've\", 'now', 'd', 'll', 'm', 'o', 're', 've', 'y', 'ain', 'aren', \"aren't\", 'couldn', \"couldn't\", 'didn', \"didn't\", 'doesn', \"doesn't\", 'hadn', \"hadn't\", 'hasn', \"hasn't\", 'haven', \"haven't\", 'isn', \"isn't\", 'ma', 'mightn', \"mightn't\", 'mustn', \"mustn't\", 'needn', \"needn't\", 'shan', \"shan't\", 'shouldn', \"shouldn't\", 'wasn', \"wasn't\", 'weren', \"weren't\", 'won', \"won't\", 'wouldn', \"wouldn't\"]}\n",
      "The best training score was: 0.7980382526158423\n",
      "The test score is: 0.7935924369747899\n",
      "____________________\n",
      "Confusion Matrix for Test Set:\n"
     ]
    },
    {
     "data": {
      "image/png": "[encoded data removed]",
      "text/plain": [
       "<Figure size 432x288 with 2 Axes>"
      ]
     },
     "metadata": {
      "needs_background": "light"
     },
     "output_type": "display_data"
    },
    {
     "name": "stdout",
     "output_type": "stream",
     "text": [
      "The Accurracy score is 0.7935924369747899\n",
      "The Sensitivity score is 0.6821515892420538\n",
      "The Precision score is 0.8075253256150506\n",
      "____________________\n",
      "Receiver Operating Characteristic (ROC) curve:\n"
     ]
    },
    {
     "data": {
      "image/png": "[encoded data removed]",
      "text/plain": [
       "<Figure size 432x288 with 1 Axes>"
      ]
     },
     "metadata": {
      "needs_background": "light"
     },
     "output_type": "display_data"
    },
    {
     "data": {
      "text/plain": [
       "'Model scored!'"
      ]
     },
     "execution_count": 19,
     "metadata": {},
     "output_type": "execute_result"
    }
   ],
   "source": [
    "nltk_slist = stopwords.words('english')\n",
    "maxfeats = [10_000, 12_000, 15_000, 20_000] #try different volume of features\n",
    "mindf = [2, 4, 6] #minimum word frequency to be included in the model\n",
    "maxdf = [.5, .7, .9] #cutoff for words more frequent than percentage (float) threshhold\n",
    "ngrams = [(1,2), (1,3)] #range of combinations of words to try (minimum, maximum)\n",
    "swords = [None, nltk_slist] #try None and a standard stop word list\n",
    "scaler = 'cvec' #count vectorizer\n",
    "classifier = 'nb'\n",
    "\n",
    "pipe = ut.pipemaker(scaler, classifier)\n",
    "params = ut.set_params(scaler, maxfeats, mindf, maxdf, swords, ngrams)\n",
    "\n",
    "gs = GridSearchCV(pipe, params, #load hyperparameters\n",
    "                  n_jobs=8,        #using 8 cores to process\n",
    "                  cv=5, verbose=1) #using 5 folds and lower verbose to limit messages returned\n",
    "\n",
    "gs.fit(X_train, y_train)\n",
    "\n",
    "ut.score_model(gs, X_train, y_train, X_test, y_test)"
   ]
  },
  {
   "cell_type": "markdown",
   "metadata": {},
   "source": [
    "## Term Frequency Vectorizer, Naive Bayes"
   ]
  },
  {
   "cell_type": "code",
   "execution_count": 20,
   "metadata": {},
   "outputs": [
    {
     "name": "stdout",
     "output_type": "stream",
     "text": [
      "Fitting 5 folds for each of 144 candidates, totalling 720 fits\n"
     ]
    },
    {
     "name": "stderr",
     "output_type": "stream",
     "text": [
      "[Parallel(n_jobs=8)]: Using backend LokyBackend with 8 concurrent workers.\n",
      "[Parallel(n_jobs=8)]: Done  34 tasks      | elapsed:    2.2s\n",
      "[Parallel(n_jobs=8)]: Done 184 tasks      | elapsed:   11.5s\n",
      "[Parallel(n_jobs=8)]: Done 434 tasks      | elapsed:   27.1s\n",
      "[Parallel(n_jobs=8)]: Done 720 out of 720 | elapsed:   44.2s finished\n"
     ]
    },
    {
     "name": "stdout",
     "output_type": "stream",
     "text": [
      "The best parameters are: {'tvec__max_df': 0.7, 'tvec__max_features': 10000, 'tvec__min_df': 2, 'tvec__ngram_range': (1, 2), 'tvec__stop_words': ['i', 'me', 'my', 'myself', 'we', 'our', 'ours', 'ourselves', 'you', \"you're\", \"you've\", \"you'll\", \"you'd\", 'your', 'yours', 'yourself', 'yourselves', 'he', 'him', 'his', 'himself', 'she', \"she's\", 'her', 'hers', 'herself', 'it', \"it's\", 'its', 'itself', 'they', 'them', 'their', 'theirs', 'themselves', 'what', 'which', 'who', 'whom', 'this', 'that', \"that'll\", 'these', 'those', 'am', 'is', 'are', 'was', 'were', 'be', 'been', 'being', 'have', 'has', 'had', 'having', 'do', 'does', 'did', 'doing', 'a', 'an', 'the', 'and', 'but', 'if', 'or', 'because', 'as', 'until', 'while', 'of', 'at', 'by', 'for', 'with', 'about', 'against', 'between', 'into', 'through', 'during', 'before', 'after', 'above', 'below', 'to', 'from', 'up', 'down', 'in', 'out', 'on', 'off', 'over', 'under', 'again', 'further', 'then', 'once', 'here', 'there', 'when', 'where', 'why', 'how', 'all', 'any', 'both', 'each', 'few', 'more', 'most', 'other', 'some', 'such', 'no', 'nor', 'not', 'only', 'own', 'same', 'so', 'than', 'too', 'very', 's', 't', 'can', 'will', 'just', 'don', \"don't\", 'should', \"should've\", 'now', 'd', 'll', 'm', 'o', 're', 've', 'y', 'ain', 'aren', \"aren't\", 'couldn', \"couldn't\", 'didn', \"didn't\", 'doesn', \"doesn't\", 'hadn', \"hadn't\", 'hasn', \"hasn't\", 'haven', \"haven't\", 'isn', \"isn't\", 'ma', 'mightn', \"mightn't\", 'mustn', \"mustn't\", 'needn', \"needn't\", 'shan', \"shan't\", 'shouldn', \"shouldn't\", 'wasn', \"wasn't\", 'weren', \"weren't\", 'won', \"won't\", 'wouldn', \"wouldn't\"]}\n",
      "The best training score was: 0.7971650517028877\n",
      "The test score is: 0.7888655462184874\n",
      "____________________\n",
      "Confusion Matrix for Test Set:\n"
     ]
    },
    {
     "data": {
      "image/png": "[encoded data removed]",
      "text/plain": [
       "<Figure size 432x288 with 2 Axes>"
      ]
     },
     "metadata": {
      "needs_background": "light"
     },
     "output_type": "display_data"
    },
    {
     "name": "stdout",
     "output_type": "stream",
     "text": [
      "The Accurracy score is 0.7888655462184874\n",
      "The Sensitivity score is 0.6271393643031785\n",
      "The Precision score is 0.840983606557377\n",
      "____________________\n",
      "Receiver Operating Characteristic (ROC) curve:\n"
     ]
    },
    {
     "data": {
      "image/png": "[encoded data removed]",
      "text/plain": [
       "<Figure size 432x288 with 1 Axes>"
      ]
     },
     "metadata": {
      "needs_background": "light"
     },
     "output_type": "display_data"
    },
    {
     "data": {
      "text/plain": [
       "'Model scored!'"
      ]
     },
     "execution_count": 20,
     "metadata": {},
     "output_type": "execute_result"
    }
   ],
   "source": [
    "nltk_slist = stopwords.words('english')\n",
    "maxfeats = [10_000, 12_000, 15_000, 20_000] #try different volume of features\n",
    "mindf = [2, 4, 6] #minimum word frequency to be included in the model\n",
    "maxdf = [.5, .7, .9] #cutoff for words more frequent than percentage (float) threshhold\n",
    "ngrams = [(1,2), (1,3)] #range of combinations of words to try (minimum, maximum)\n",
    "swords = [None, nltk_slist] #try None and a standard stop word list\n",
    "scaler = 'tvec' #count vectorizer\n",
    "classifier = 'nb'\n",
    "\n",
    "pipe = ut.pipemaker(scaler, classifier)\n",
    "params = ut.set_params(scaler, maxfeats, mindf, maxdf, swords, ngrams)\n",
    "\n",
    "gs = GridSearchCV(pipe, params, #load hyperparameters\n",
    "                  n_jobs=8,        #using 8 cores to process\n",
    "                  cv=5, verbose=1) #using 5 folds and lower verbose to limit messages returned\n",
    "\n",
    "gs.fit(X_train, y_train)\n",
    "\n",
    "ut.score_model(gs, X_train, y_train, X_test, y_test)"
   ]
  },
  {
   "cell_type": "markdown",
   "metadata": {},
   "source": [
    "## Count Vectorizer, Logistic Regression"
   ]
  },
  {
   "cell_type": "code",
   "execution_count": 21,
   "metadata": {},
   "outputs": [
    {
     "name": "stdout",
     "output_type": "stream",
     "text": [
      "Fitting 5 folds for each of 144 candidates, totalling 720 fits\n"
     ]
    },
    {
     "name": "stderr",
     "output_type": "stream",
     "text": [
      "[Parallel(n_jobs=8)]: Using backend LokyBackend with 8 concurrent workers.\n",
      "[Parallel(n_jobs=8)]: Done  34 tasks      | elapsed:    3.4s\n",
      "[Parallel(n_jobs=8)]: Done 184 tasks      | elapsed:   16.7s\n",
      "[Parallel(n_jobs=8)]: Done 434 tasks      | elapsed:   38.6s\n",
      "[Parallel(n_jobs=8)]: Done 720 out of 720 | elapsed:  1.1min finished\n"
     ]
    },
    {
     "name": "stdout",
     "output_type": "stream",
     "text": [
      "The best parameters are: {'cvec__max_df': 0.7, 'cvec__max_features': 10000, 'cvec__min_df': 2, 'cvec__ngram_range': (1, 2), 'cvec__stop_words': ['i', 'me', 'my', 'myself', 'we', 'our', 'ours', 'ourselves', 'you', \"you're\", \"you've\", \"you'll\", \"you'd\", 'your', 'yours', 'yourself', 'yourselves', 'he', 'him', 'his', 'himself', 'she', \"she's\", 'her', 'hers', 'herself', 'it', \"it's\", 'its', 'itself', 'they', 'them', 'their', 'theirs', 'themselves', 'what', 'which', 'who', 'whom', 'this', 'that', \"that'll\", 'these', 'those', 'am', 'is', 'are', 'was', 'were', 'be', 'been', 'being', 'have', 'has', 'had', 'having', 'do', 'does', 'did', 'doing', 'a', 'an', 'the', 'and', 'but', 'if', 'or', 'because', 'as', 'until', 'while', 'of', 'at', 'by', 'for', 'with', 'about', 'against', 'between', 'into', 'through', 'during', 'before', 'after', 'above', 'below', 'to', 'from', 'up', 'down', 'in', 'out', 'on', 'off', 'over', 'under', 'again', 'further', 'then', 'once', 'here', 'there', 'when', 'where', 'why', 'how', 'all', 'any', 'both', 'each', 'few', 'more', 'most', 'other', 'some', 'such', 'no', 'nor', 'not', 'only', 'own', 'same', 'so', 'than', 'too', 'very', 's', 't', 'can', 'will', 'just', 'don', \"don't\", 'should', \"should've\", 'now', 'd', 'll', 'm', 'o', 're', 've', 'y', 'ain', 'aren', \"aren't\", 'couldn', \"couldn't\", 'didn', \"didn't\", 'doesn', \"doesn't\", 'hadn', \"hadn't\", 'hasn', \"hasn't\", 'haven', \"haven't\", 'isn', \"isn't\", 'ma', 'mightn', \"mightn't\", 'mustn', \"mustn't\", 'needn', \"needn't\", 'shan', \"shan't\", 'shouldn', \"shouldn't\", 'wasn', \"wasn't\", 'weren', \"weren't\", 'won', \"won't\", 'wouldn', \"wouldn't\"]}\n",
      "The best training score was: 0.7926096412800397\n",
      "The test score is: 0.7820378151260504\n",
      "____________________\n",
      "Confusion Matrix for Test Set:\n"
     ]
    },
    {
     "data": {
      "image/png": "[encoded data removed]",
      "text/plain": [
       "<Figure size 432x288 with 2 Axes>"
      ]
     },
     "metadata": {
      "needs_background": "light"
     },
     "output_type": "display_data"
    },
    {
     "name": "stdout",
     "output_type": "stream",
     "text": [
      "The Accurracy score is 0.7820378151260504\n",
      "The Sensitivity score is 0.6980440097799511\n",
      "The Precision score is 0.7726657645466847\n",
      "____________________\n",
      "Receiver Operating Characteristic (ROC) curve:\n"
     ]
    },
    {
     "data": {
      "image/png": "[encoded data removed]",
      "text/plain": [
       "<Figure size 432x288 with 1 Axes>"
      ]
     },
     "metadata": {
      "needs_background": "light"
     },
     "output_type": "display_data"
    },
    {
     "data": {
      "text/plain": [
       "'Model scored!'"
      ]
     },
     "execution_count": 21,
     "metadata": {},
     "output_type": "execute_result"
    }
   ],
   "source": [
    "nltk_slist = stopwords.words('english')\n",
    "maxfeats = [10_000, 12_000, 15_000, 20_000] #try different volume of features\n",
    "mindf = [2, 4, 6] #minimum word frequency to be included in the model\n",
    "maxdf = [.5, .7, .9] #cutoff for words more frequent than percentage (float) threshhold\n",
    "ngrams = [(1,2), (1,3)] #range of combinations of words to try (minimum, maximum)\n",
    "swords = [None, nltk_slist] #try None and a standard stop word list\n",
    "scaler = 'cvec' #count vectorizer\n",
    "classifier = 'logreg'\n",
    "\n",
    "pipe = ut.pipemaker(scaler, classifier)\n",
    "params = ut.set_params(scaler, maxfeats, mindf, maxdf, swords, ngrams)\n",
    "\n",
    "gs = GridSearchCV(pipe, params, #load hyperparameters\n",
    "                  n_jobs=8,        #using 8 cores to process\n",
    "                  cv=5, verbose=1) #using 5 folds and lower verbose to limit messages returned\n",
    "\n",
    "gs.fit(X_train, y_train)\n",
    "\n",
    "ut.score_model(gs, X_train, y_train, X_test, y_test)"
   ]
  },
  {
   "cell_type": "markdown",
   "metadata": {},
   "source": [
    "## Count Vectorizer, Random Forest"
   ]
  },
  {
   "cell_type": "code",
   "execution_count": 22,
   "metadata": {},
   "outputs": [
    {
     "name": "stdout",
     "output_type": "stream",
     "text": [
      "Fitting 5 folds for each of 144 candidates, totalling 720 fits\n"
     ]
    },
    {
     "name": "stderr",
     "output_type": "stream",
     "text": [
      "[Parallel(n_jobs=8)]: Using backend LokyBackend with 8 concurrent workers.\n",
      "[Parallel(n_jobs=8)]: Done  34 tasks      | elapsed:   23.1s\n",
      "[Parallel(n_jobs=8)]: Done 184 tasks      | elapsed:  1.8min\n",
      "[Parallel(n_jobs=8)]: Done 434 tasks      | elapsed:  4.2min\n",
      "[Parallel(n_jobs=8)]: Done 720 out of 720 | elapsed:  6.7min finished\n"
     ]
    },
    {
     "name": "stdout",
     "output_type": "stream",
     "text": [
      "The best parameters are: {'tvec__max_df': 0.5, 'tvec__max_features': 12000, 'tvec__min_df': 4, 'tvec__ngram_range': (1, 3), 'tvec__stop_words': ['i', 'me', 'my', 'myself', 'we', 'our', 'ours', 'ourselves', 'you', \"you're\", \"you've\", \"you'll\", \"you'd\", 'your', 'yours', 'yourself', 'yourselves', 'he', 'him', 'his', 'himself', 'she', \"she's\", 'her', 'hers', 'herself', 'it', \"it's\", 'its', 'itself', 'they', 'them', 'their', 'theirs', 'themselves', 'what', 'which', 'who', 'whom', 'this', 'that', \"that'll\", 'these', 'those', 'am', 'is', 'are', 'was', 'were', 'be', 'been', 'being', 'have', 'has', 'had', 'having', 'do', 'does', 'did', 'doing', 'a', 'an', 'the', 'and', 'but', 'if', 'or', 'because', 'as', 'until', 'while', 'of', 'at', 'by', 'for', 'with', 'about', 'against', 'between', 'into', 'through', 'during', 'before', 'after', 'above', 'below', 'to', 'from', 'up', 'down', 'in', 'out', 'on', 'off', 'over', 'under', 'again', 'further', 'then', 'once', 'here', 'there', 'when', 'where', 'why', 'how', 'all', 'any', 'both', 'each', 'few', 'more', 'most', 'other', 'some', 'such', 'no', 'nor', 'not', 'only', 'own', 'same', 'so', 'than', 'too', 'very', 's', 't', 'can', 'will', 'just', 'don', \"don't\", 'should', \"should've\", 'now', 'd', 'll', 'm', 'o', 're', 've', 'y', 'ain', 'aren', \"aren't\", 'couldn', \"couldn't\", 'didn', \"didn't\", 'doesn', \"doesn't\", 'hadn', \"hadn't\", 'hasn', \"hasn't\", 'haven', \"haven't\", 'isn', \"isn't\", 'ma', 'mightn', \"mightn't\", 'mustn', \"mustn't\", 'needn', \"needn't\", 'shan', \"shan't\", 'shouldn', \"shouldn't\", 'wasn', \"wasn't\", 'weren', \"weren't\", 'won', \"won't\", 'wouldn', \"wouldn't\"]}\n",
      "The best training score was: 0.7770217233477255\n",
      "The test score is: 0.7647058823529411\n",
      "____________________\n",
      "Confusion Matrix for Test Set:\n"
     ]
    },
    {
     "data": {
      "image/png": "[encoded data removed]",
      "text/plain": [
       "<Figure size 432x288 with 2 Axes>"
      ]
     },
     "metadata": {
      "needs_background": "light"
     },
     "output_type": "display_data"
    },
    {
     "name": "stdout",
     "output_type": "stream",
     "text": [
      "The Accurracy score is 0.7647058823529411\n",
      "The Sensitivity score is 0.6026894865525673\n",
      "The Precision score is 0.8003246753246753\n",
      "____________________\n",
      "Receiver Operating Characteristic (ROC) curve:\n"
     ]
    },
    {
     "data": {
      "image/png": "[encoded data removed]",
      "text/plain": [
       "<Figure size 432x288 with 1 Axes>"
      ]
     },
     "metadata": {
      "needs_background": "light"
     },
     "output_type": "display_data"
    },
    {
     "data": {
      "text/plain": [
       "'Model scored!'"
      ]
     },
     "execution_count": 22,
     "metadata": {},
     "output_type": "execute_result"
    }
   ],
   "source": [
    "nltk_slist = stopwords.words('english')\n",
    "maxfeats = [10_000, 12_000, 15_000, 20_000] #try different volume of features\n",
    "mindf = [2, 4, 6] #minimum word frequency to be included in the model\n",
    "maxdf = [.5, .7, .9] #cutoff for words more frequent than percentage (float) threshhold\n",
    "ngrams = [(1,2), (1,3)] #range of combinations of words to try (minimum, maximum)\n",
    "swords = [None, nltk_slist] #try None and a standard stop word list\n",
    "scaler = 'tvec' #count vectorizer\n",
    "classifier = 'rf'\n",
    "\n",
    "pipe = ut.pipemaker(scaler, classifier)\n",
    "params = ut.set_params(scaler, maxfeats, mindf, maxdf, swords, ngrams)\n",
    "\n",
    "gs = GridSearchCV(pipe, params, #load hyperparameters\n",
    "                  n_jobs=8,        #using 8 cores to process\n",
    "                  cv=5, verbose=1) #using 5 folds and lower verbose to limit messages returned\n",
    "\n",
    "gs.fit(X_train, y_train)\n",
    "\n",
    "ut.score_model(gs, X_train, y_train, X_test, y_test)"
   ]
  },
  {
   "cell_type": "markdown",
   "metadata": {},
   "source": [
    "The CVEC / NB model seemed to perform best so I'm going to see if I can tune the hyperparemeters to improve the accuracy score.  \n",
    "\n",
    "As a reminder, these were the best parameters as selected by the grid search:  \n",
    "\n",
    "The best parameters are: {'cvec__max_df': 0.5, 'cvec__max_features': 10000, 'cvec__min_df': 2, 'cvec__ngram_range': (1, 2), 'cvec__stop_words': sword list}\n",
    "The best training score was: 0.7980382526158423\n",
    "The test score is: 0.7935924369747899"
   ]
  },
  {
   "cell_type": "markdown",
   "metadata": {},
   "source": [
    "changes for this run:  \n",
    "- max feats running from 2k to 12k (previous best was 10k)\n",
    "- mindf 2,3,4\n",
    "- max df .25, .3, .4, .5 (previou best .5)\n",
    "- ngrams (1,1), (1,2), (1,3)"
   ]
  },
  {
   "cell_type": "code",
   "execution_count": 23,
   "metadata": {},
   "outputs": [
    {
     "name": "stdout",
     "output_type": "stream",
     "text": [
      "Fitting 5 folds for each of 432 candidates, totalling 2160 fits\n"
     ]
    },
    {
     "name": "stderr",
     "output_type": "stream",
     "text": [
      "[Parallel(n_jobs=8)]: Using backend LokyBackend with 8 concurrent workers.\n",
      "[Parallel(n_jobs=8)]: Done  34 tasks      | elapsed:    2.9s\n",
      "[Parallel(n_jobs=8)]: Done 184 tasks      | elapsed:   10.0s\n",
      "[Parallel(n_jobs=8)]: Done 434 tasks      | elapsed:   22.4s\n",
      "[Parallel(n_jobs=8)]: Done 784 tasks      | elapsed:   41.2s\n",
      "[Parallel(n_jobs=8)]: Done 1234 tasks      | elapsed:  1.1min\n",
      "[Parallel(n_jobs=8)]: Done 1784 tasks      | elapsed:  1.6min\n",
      "[Parallel(n_jobs=8)]: Done 2160 out of 2160 | elapsed:  1.9min finished\n"
     ]
    },
    {
     "name": "stdout",
     "output_type": "stream",
     "text": [
      "The best parameters are: {'cvec__max_df': 0.25, 'cvec__max_features': 4000, 'cvec__min_df': 3, 'cvec__ngram_range': (1, 1), 'cvec__stop_words': None}\n",
      "The best training score was: 0.7985651815548778\n",
      "The test score is: 0.803046218487395\n",
      "____________________\n",
      "Confusion Matrix for Test Set:\n"
     ]
    },
    {
     "data": {
      "image/png": "[encoded data removed]",
      "text/plain": [
       "<Figure size 432x288 with 2 Axes>"
      ]
     },
     "metadata": {
      "needs_background": "light"
     },
     "output_type": "display_data"
    },
    {
     "name": "stdout",
     "output_type": "stream",
     "text": [
      "The Accurracy score is 0.803046218487395\n",
      "The Sensitivity score is 0.7273838630806846\n",
      "The Precision score is 0.7965194109772423\n",
      "____________________\n",
      "Receiver Operating Characteristic (ROC) curve:\n"
     ]
    },
    {
     "data": {
      "image/png": "[encoded data removed]",
      "text/plain": [
       "<Figure size 432x288 with 1 Axes>"
      ]
     },
     "metadata": {
      "needs_background": "light"
     },
     "output_type": "display_data"
    },
    {
     "data": {
      "text/plain": [
       "'Model scored!'"
      ]
     },
     "execution_count": 23,
     "metadata": {},
     "output_type": "execute_result"
    }
   ],
   "source": [
    "nltk_slist = stopwords.words('english')\n",
    "maxfeats = [2_000, 4_000, 6_000, 8_000, 10_000, 12_000] #try different volume of features\n",
    "mindf = [2, 3, 4] #minimum word frequency to be included in the model\n",
    "maxdf = [.25, .3, .4, .5] #cutoff for words more frequent than percentage (float) threshhold\n",
    "ngrams = [(1,1), (1,2), (1,3)] #range of combinations of words to try (minimum, maximum)\n",
    "swords = [None, nltk_slist] #try None and a standard stop word list\n",
    "scaler = 'cvec' #count vectorizer\n",
    "classifier = 'nb'\n",
    "\n",
    "pipe = ut.pipemaker(scaler, classifier)\n",
    "params = ut.set_params(scaler, maxfeats, mindf, maxdf, swords, ngrams)\n",
    "\n",
    "gs = GridSearchCV(pipe, params, #load hyperparameters\n",
    "                  n_jobs=8,        #using 8 cores to process\n",
    "                  cv=5, verbose=1) #using 5 folds and lower verbose to limit messages returned\n",
    "\n",
    "gs.fit(X_train, y_train)\n",
    "\n",
    "ut.score_model(gs, X_train, y_train, X_test, y_test)"
   ]
  },
  {
   "cell_type": "markdown",
   "metadata": {},
   "source": [
    "new adjustments:  \n",
    "- maxfeats 1k, 1.5k, 2k, 2.5k, 3k, 3.5k, 4k, 4.5k"
   ]
  },
  {
   "cell_type": "code",
   "execution_count": 24,
   "metadata": {},
   "outputs": [
    {
     "name": "stdout",
     "output_type": "stream",
     "text": [
      "Fitting 5 folds for each of 576 candidates, totalling 2880 fits\n"
     ]
    },
    {
     "name": "stderr",
     "output_type": "stream",
     "text": [
      "[Parallel(n_jobs=8)]: Using backend LokyBackend with 8 concurrent workers.\n",
      "[Parallel(n_jobs=8)]: Done  34 tasks      | elapsed:    3.6s\n",
      "[Parallel(n_jobs=8)]: Done 184 tasks      | elapsed:   11.3s\n",
      "[Parallel(n_jobs=8)]: Done 434 tasks      | elapsed:   24.4s\n",
      "[Parallel(n_jobs=8)]: Done 784 tasks      | elapsed:   43.0s\n",
      "[Parallel(n_jobs=8)]: Done 1234 tasks      | elapsed:  1.1min\n",
      "[Parallel(n_jobs=8)]: Done 1784 tasks      | elapsed:  1.6min\n",
      "[Parallel(n_jobs=8)]: Done 2434 tasks      | elapsed:  2.2min\n",
      "[Parallel(n_jobs=8)]: Done 2880 out of 2880 | elapsed:  2.5min finished\n"
     ]
    },
    {
     "name": "stdout",
     "output_type": "stream",
     "text": [
      "The best parameters are: {'cvec__max_df': 0.25, 'cvec__max_features': 3500, 'cvec__min_df': 2, 'cvec__ngram_range': (1, 1), 'cvec__stop_words': None}\n",
      "The best training score was: 0.7985651815548778\n",
      "The test score is: 0.8019957983193278\n",
      "____________________\n",
      "Confusion Matrix for Test Set:\n"
     ]
    },
    {
     "data": {
      "image/png": "[encoded data removed]",
      "text/plain": [
       "<Figure size 432x288 with 2 Axes>"
      ]
     },
     "metadata": {
      "needs_background": "light"
     },
     "output_type": "display_data"
    },
    {
     "name": "stdout",
     "output_type": "stream",
     "text": [
      "The Accurracy score is 0.8019957983193278\n",
      "The Sensitivity score is 0.7273838630806846\n",
      "The Precision score is 0.794392523364486\n",
      "____________________\n",
      "Receiver Operating Characteristic (ROC) curve:\n"
     ]
    },
    {
     "data": {
      "image/png": "[encoded data removed]",
      "text/plain": [
       "<Figure size 432x288 with 1 Axes>"
      ]
     },
     "metadata": {
      "needs_background": "light"
     },
     "output_type": "display_data"
    },
    {
     "data": {
      "text/plain": [
       "'Model scored!'"
      ]
     },
     "execution_count": 24,
     "metadata": {},
     "output_type": "execute_result"
    }
   ],
   "source": [
    "nltk_slist = stopwords.words('english')\n",
    "maxfeats = [1_000, 1_500, 2_000, 2_500, 3_000, 3_500, 4_000, 4_500] #try different volume of features\n",
    "mindf = [2, 3, 4] #minimum word frequency to be included in the model\n",
    "maxdf = [.25, .3, .4, .5] #cutoff for words more frequent than percentage (float) threshhold\n",
    "ngrams = [(1,1), (1,2), (1,3)] #range of combinations of words to try (minimum, maximum)\n",
    "swords = [None, nltk_slist] #try None and a standard stop word list\n",
    "scaler = 'cvec' #count vectorizer\n",
    "classifier = 'nb'\n",
    "\n",
    "pipe = ut.pipemaker(scaler, classifier)\n",
    "params = ut.set_params(scaler, maxfeats, mindf, maxdf, swords, ngrams)\n",
    "\n",
    "gs = GridSearchCV(pipe, params, #load hyperparameters\n",
    "                  n_jobs=8,        #using 8 cores to process\n",
    "                  cv=5, verbose=1) #using 5 folds and lower verbose to limit messages returned\n",
    "\n",
    "gs.fit(X_train, y_train)\n",
    "\n",
    "ut.score_model(gs, X_train, y_train, X_test, y_test)"
   ]
  },
  {
   "cell_type": "markdown",
   "metadata": {},
   "source": [
    "Adjustments:  \n",
    "- maxdf .1, .15, .20, .25, .3, .4\n",
    "- mindf 1,2,3,4"
   ]
  },
  {
   "cell_type": "code",
   "execution_count": 25,
   "metadata": {},
   "outputs": [
    {
     "name": "stdout",
     "output_type": "stream",
     "text": [
      "Fitting 5 folds for each of 864 candidates, totalling 4320 fits\n"
     ]
    },
    {
     "name": "stderr",
     "output_type": "stream",
     "text": [
      "[Parallel(n_jobs=8)]: Using backend LokyBackend with 8 concurrent workers.\n",
      "[Parallel(n_jobs=8)]: Done  34 tasks      | elapsed:    3.1s\n",
      "[Parallel(n_jobs=8)]: Done 184 tasks      | elapsed:   10.1s\n",
      "[Parallel(n_jobs=8)]: Done 434 tasks      | elapsed:   21.9s\n",
      "[Parallel(n_jobs=8)]: Done 784 tasks      | elapsed:   38.9s\n",
      "[Parallel(n_jobs=8)]: Done 1234 tasks      | elapsed:   60.0s\n",
      "[Parallel(n_jobs=8)]: Done 1784 tasks      | elapsed:  1.4min\n",
      "[Parallel(n_jobs=8)]: Done 2434 tasks      | elapsed:  1.9min\n",
      "[Parallel(n_jobs=8)]: Done 3184 tasks      | elapsed:  2.5min\n",
      "[Parallel(n_jobs=8)]: Done 4034 tasks      | elapsed:  3.1min\n",
      "[Parallel(n_jobs=8)]: Done 4320 out of 4320 | elapsed:  3.3min finished\n"
     ]
    },
    {
     "name": "stdout",
     "output_type": "stream",
     "text": [
      "The best parameters are: {'cvec__max_df': 0.4, 'cvec__max_features': 3500, 'cvec__min_df': 1, 'cvec__ngram_range': (1, 1), 'cvec__stop_words': None}\n",
      "The best training score was: 0.7989151372732003\n",
      "The test score is: 0.8025210084033614\n",
      "____________________\n",
      "Confusion Matrix for Test Set:\n"
     ]
    },
    {
     "data": {
      "image/png": "[encoded data removed]",
      "text/plain": [
       "<Figure size 432x288 with 2 Axes>"
      ]
     },
     "metadata": {
      "needs_background": "light"
     },
     "output_type": "display_data"
    },
    {
     "name": "stdout",
     "output_type": "stream",
     "text": [
      "The Accurracy score is 0.8025210084033614\n",
      "The Sensitivity score is 0.7273838630806846\n",
      "The Precision score is 0.7954545454545454\n",
      "____________________\n",
      "Receiver Operating Characteristic (ROC) curve:\n"
     ]
    },
    {
     "data": {
      "image/png": "[encoded data removed]",
      "text/plain": [
       "<Figure size 432x288 with 1 Axes>"
      ]
     },
     "metadata": {
      "needs_background": "light"
     },
     "output_type": "display_data"
    },
    {
     "data": {
      "text/plain": [
       "'Model scored!'"
      ]
     },
     "execution_count": 25,
     "metadata": {},
     "output_type": "execute_result"
    }
   ],
   "source": [
    "nltk_slist = stopwords.words('english')\n",
    "maxfeats = [1_000, 1_500, 2_000, 2_500, 3_000, 3_500, 4_000, 4_500] #try different volume of features\n",
    "mindf = [1, 2, 3] #minimum word frequency to be included in the model\n",
    "maxdf = [.1, .15, .2, .25, .3, .4] #cutoff for words more frequent than percentage (float) threshhold\n",
    "ngrams = [(1,1), (1,2), (1,3)] #range of combinations of words to try (minimum, maximum)\n",
    "swords = [None, nltk_slist] #try None and a standard stop word list\n",
    "scaler = 'cvec' #count vectorizer\n",
    "classifier = 'nb'\n",
    "\n",
    "pipe = ut.pipemaker(scaler, classifier)\n",
    "params = ut.set_params(scaler, maxfeats, mindf, maxdf, swords, ngrams)\n",
    "\n",
    "gs = GridSearchCV(pipe, params, #load hyperparameters\n",
    "                  n_jobs=8,        #using 8 cores to process\n",
    "                  cv=5, verbose=1) #using 5 folds and lower verbose to limit messages returned\n",
    "\n",
    "gs.fit(X_train, y_train)\n",
    "\n",
    "ut.score_model(gs, X_train, y_train, X_test, y_test)"
   ]
  },
  {
   "cell_type": "code",
   "execution_count": null,
   "metadata": {},
   "outputs": [],
   "source": []
  }
 ],
 "metadata": {
  "kernelspec": {
   "display_name": "Python 3",
   "language": "python",
   "name": "python3"
  },
  "language_info": {
   "codemirror_mode": {
    "name": "ipython",
    "version": 3
   },
   "file_extension": ".py",
   "mimetype": "text/x-python",
   "name": "python",
   "nbconvert_exporter": "python",
   "pygments_lexer": "ipython3",
   "version": "3.8.3"
  }
 },
 "nbformat": 4,
 "nbformat_minor": 4
}
