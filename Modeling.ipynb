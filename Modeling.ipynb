{
 "cells": [
  {
   "cell_type": "code",
   "execution_count": 1,
   "metadata": {},
   "outputs": [],
   "source": [
    "#imports\n",
    "from scipy.stats import ttest_ind\n",
    "import pandas as pd\n",
    "import numpy as np\n",
    "from scipy import stats\n",
    "import seaborn as sns\n",
    "import matplotlib.pyplot as plt\n",
    "import re\n",
    "#week 3\n",
    "from sklearn.linear_model import LinearRegression\n",
    "from sklearn import metrics\n",
    "import statsmodels.api as sm\n",
    "from sklearn.model_selection import train_test_split, cross_val_score\n",
    "from sklearn.preprocessing import StandardScaler, PolynomialFeatures\n",
    "#week 4\n",
    "from sklearn.linear_model import Ridge\n",
    "from sklearn.linear_model import RidgeCV\n",
    "from sklearn.linear_model import Lasso, LassoCV\n",
    "from sklearn.linear_model import LogisticRegression\n",
    "from sklearn.model_selection import train_test_split, GridSearchCV\n",
    "from sklearn.preprocessing import StandardScaler\n",
    "from sklearn.neighbors import KNeighborsClassifier\n",
    "from sklearn.pipeline import Pipeline\n",
    "from nltk.corpus import stopwords\n",
    "from nltk.stem import WordNetLemmatizer\n",
    "from nltk.tokenize import RegexpTokenizer\n",
    "from sklearn.feature_extraction.text import CountVectorizer, TfidfVectorizer"
   ]
  },
  {
   "cell_type": "code",
   "execution_count": 2,
   "metadata": {},
   "outputs": [],
   "source": [
    "df = pd.read_csv('training_clean.csv')"
   ]
  },
  {
   "cell_type": "code",
   "execution_count": 3,
   "metadata": {},
   "outputs": [
    {
     "data": {
      "text/html": [
       "<div>\n",
       "<style scoped>\n",
       "    .dataframe tbody tr th:only-of-type {\n",
       "        vertical-align: middle;\n",
       "    }\n",
       "\n",
       "    .dataframe tbody tr th {\n",
       "        vertical-align: top;\n",
       "    }\n",
       "\n",
       "    .dataframe thead th {\n",
       "        text-align: right;\n",
       "    }\n",
       "</style>\n",
       "<table border=\"1\" class=\"dataframe\">\n",
       "  <thead>\n",
       "    <tr style=\"text-align: right;\">\n",
       "      <th></th>\n",
       "      <th>target</th>\n",
       "      <th>loc_y_text</th>\n",
       "    </tr>\n",
       "  </thead>\n",
       "  <tbody>\n",
       "    <tr>\n",
       "      <th>0</th>\n",
       "      <td>1</td>\n",
       "      <td>Our Deeds are the Reason of this #earthquake ...</td>\n",
       "    </tr>\n",
       "    <tr>\n",
       "      <th>1</th>\n",
       "      <td>1</td>\n",
       "      <td>Forest fire near La Ronge Sask. Canada</td>\n",
       "    </tr>\n",
       "    <tr>\n",
       "      <th>2</th>\n",
       "      <td>1</td>\n",
       "      <td>All residents asked to 'shelter in place' are...</td>\n",
       "    </tr>\n",
       "    <tr>\n",
       "      <th>3</th>\n",
       "      <td>1</td>\n",
       "      <td>13,000 people receive #wildfires evacuation o...</td>\n",
       "    </tr>\n",
       "    <tr>\n",
       "      <th>4</th>\n",
       "      <td>1</td>\n",
       "      <td>Just got sent this photo from Ruby #Alaska as...</td>\n",
       "    </tr>\n",
       "  </tbody>\n",
       "</table>\n",
       "</div>"
      ],
      "text/plain": [
       "   target                                         loc_y_text\n",
       "0       1   Our Deeds are the Reason of this #earthquake ...\n",
       "1       1             Forest fire near La Ronge Sask. Canada\n",
       "2       1   All residents asked to 'shelter in place' are...\n",
       "3       1   13,000 people receive #wildfires evacuation o...\n",
       "4       1   Just got sent this photo from Ruby #Alaska as..."
      ]
     },
     "execution_count": 3,
     "metadata": {},
     "output_type": "execute_result"
    }
   ],
   "source": [
    "df.head() #preview"
   ]
  },
  {
   "cell_type": "code",
   "execution_count": 4,
   "metadata": {},
   "outputs": [
    {
     "name": "stdout",
     "output_type": "stream",
     "text": [
      "(5709,) (5709,) (1904,) (1904,)\n"
     ]
    }
   ],
   "source": [
    "X = df['loc_y_text']\n",
    "y = df['target']\n",
    "\n",
    "X_train, X_test, y_train, y_test = train_test_split(X,\n",
    "                                                    y,\n",
    "                                                    stratify=y, #try to keep proportion of 1 and 0 in both splits\n",
    "                                                    random_state=17) #random state for reproducability\n",
    "\n",
    "print( \n",
    "X_train.shape,\n",
    "y_train.shape,\n",
    "X_test.shape,\n",
    "y_test.shape) #verify shapes look correct"
   ]
  },
  {
   "cell_type": "markdown",
   "metadata": {},
   "source": [
    "I'm going to bring in a utility python file that I wrote on another NLP project - it has some functions that will expedite this modeling."
   ]
  },
  {
   "cell_type": "code",
   "execution_count": 5,
   "metadata": {},
   "outputs": [],
   "source": [
    "import p3_utils as ut"
   ]
  },
  {
   "cell_type": "markdown",
   "metadata": {},
   "source": [
    "## Count Vectorizer, Naive Bayes"
   ]
  },
  {
   "cell_type": "code",
   "execution_count": 16,
   "metadata": {},
   "outputs": [
    {
     "name": "stdout",
     "output_type": "stream",
     "text": [
      "Fitting 5 folds for each of 144 candidates, totalling 720 fits\n"
     ]
    },
    {
     "name": "stderr",
     "output_type": "stream",
     "text": [
      "[Parallel(n_jobs=8)]: Using backend LokyBackend with 8 concurrent workers.\n",
      "[Parallel(n_jobs=8)]: Done  34 tasks      | elapsed:    3.1s\n",
      "[Parallel(n_jobs=8)]: Done 184 tasks      | elapsed:   10.1s\n",
      "[Parallel(n_jobs=8)]: Done 434 tasks      | elapsed:   22.5s\n",
      "[Parallel(n_jobs=8)]: Done 720 out of 720 | elapsed:   37.8s finished\n"
     ]
    },
    {
     "name": "stdout",
     "output_type": "stream",
     "text": [
      "The best parameters are: {'cvec__max_df': 0.7, 'cvec__max_features': 10000, 'cvec__min_df': 2, 'cvec__ngram_range': (1, 2), 'cvec__stop_words': ['i', 'me', 'my', 'myself', 'we', 'our', 'ours', 'ourselves', 'you', \"you're\", \"you've\", \"you'll\", \"you'd\", 'your', 'yours', 'yourself', 'yourselves', 'he', 'him', 'his', 'himself', 'she', \"she's\", 'her', 'hers', 'herself', 'it', \"it's\", 'its', 'itself', 'they', 'them', 'their', 'theirs', 'themselves', 'what', 'which', 'who', 'whom', 'this', 'that', \"that'll\", 'these', 'those', 'am', 'is', 'are', 'was', 'were', 'be', 'been', 'being', 'have', 'has', 'had', 'having', 'do', 'does', 'did', 'doing', 'a', 'an', 'the', 'and', 'but', 'if', 'or', 'because', 'as', 'until', 'while', 'of', 'at', 'by', 'for', 'with', 'about', 'against', 'between', 'into', 'through', 'during', 'before', 'after', 'above', 'below', 'to', 'from', 'up', 'down', 'in', 'out', 'on', 'off', 'over', 'under', 'again', 'further', 'then', 'once', 'here', 'there', 'when', 'where', 'why', 'how', 'all', 'any', 'both', 'each', 'few', 'more', 'most', 'other', 'some', 'such', 'no', 'nor', 'not', 'only', 'own', 'same', 'so', 'than', 'too', 'very', 's', 't', 'can', 'will', 'just', 'don', \"don't\", 'should', \"should've\", 'now', 'd', 'll', 'm', 'o', 're', 've', 'y', 'ain', 'aren', \"aren't\", 'couldn', \"couldn't\", 'didn', \"didn't\", 'doesn', \"doesn't\", 'hadn', \"hadn't\", 'hasn', \"hasn't\", 'haven', \"haven't\", 'isn', \"isn't\", 'ma', 'mightn', \"mightn't\", 'mustn', \"mustn't\", 'needn', \"needn't\", 'shan', \"shan't\", 'shouldn', \"shouldn't\", 'wasn', \"wasn't\", 'weren', \"weren't\", 'won', \"won't\", 'wouldn', \"wouldn't\"]}\n",
      "The best training score was: 0.7950613266698491\n",
      "The test score is: 0.7925420168067226\n",
      "____________________\n",
      "Confusion Matrix for Test Set:\n"
     ]
    },
    {
     "data": {
      "image/png": "[encoded data removed]",
      "text/plain": [
       "<Figure size 432x288 with 2 Axes>"
      ]
     },
     "metadata": {
      "needs_background": "light"
     },
     "output_type": "display_data"
    },
    {
     "name": "stdout",
     "output_type": "stream",
     "text": [
      "The Accurracy score is 0.7925420168067226\n",
      "The Sensitivity score is 0.6735941320293398\n",
      "The Precision score is 0.8114874815905744\n",
      "____________________\n",
      "Receiver Operating Characteristic (ROC) curve:\n"
     ]
    },
    {
     "data": {
      "image/png": "[encoded data removed]",
      "text/plain": [
       "<Figure size 432x288 with 1 Axes>"
      ]
     },
     "metadata": {
      "needs_background": "light"
     },
     "output_type": "display_data"
    },
    {
     "data": {
      "text/plain": [
       "'Model scored!'"
      ]
     },
     "execution_count": 16,
     "metadata": {},
     "output_type": "execute_result"
    }
   ],
   "source": [
    "nltk_slist = stopwords.words('english')\n",
    "maxfeats = [10_000, 12_000, 15_000, 20_000] #try different volume of features\n",
    "mindf = [2, 4, 6] #minimum word frequency to be included in the model\n",
    "maxdf = [.5, .7, .9] #cutoff for words more frequent than percentage (float) threshhold\n",
    "ngrams = [(1,2), (1,3)] #range of combinations of words to try (minimum, maximum)\n",
    "swords = [None, nltk_slist] #try None and a standard stop word list\n",
    "scaler = 'cvec' #count vectorizer\n",
    "classifier = 'nb'\n",
    "\n",
    "pipe = ut.pipemaker(scaler, classifier)\n",
    "params = ut.set_params(scaler, maxfeats, mindf, maxdf, swords, ngrams)\n",
    "\n",
    "gs = GridSearchCV(pipe, params, #load hyperparameters\n",
    "                  n_jobs=8,        #using 8 cores to process\n",
    "                  cv=5, verbose=1) #using 5 folds and lower verbose to limit messages returned\n",
    "\n",
    "gs.fit(X_train, y_train)\n",
    "\n",
    "ut.score_model(gs, X_train, y_train, X_test, y_test)"
   ]
  },
  {
   "cell_type": "markdown",
   "metadata": {},
   "source": [
    "## Term Frequency Vectorizer, Naive Bayes"
   ]
  },
  {
   "cell_type": "code",
   "execution_count": 17,
   "metadata": {},
   "outputs": [
    {
     "name": "stdout",
     "output_type": "stream",
     "text": [
      "Fitting 5 folds for each of 144 candidates, totalling 720 fits\n"
     ]
    },
    {
     "name": "stderr",
     "output_type": "stream",
     "text": [
      "[Parallel(n_jobs=8)]: Using backend LokyBackend with 8 concurrent workers.\n",
      "[Parallel(n_jobs=8)]: Done  34 tasks      | elapsed:    3.1s\n",
      "[Parallel(n_jobs=8)]: Done 184 tasks      | elapsed:   11.0s\n",
      "[Parallel(n_jobs=8)]: Done 434 tasks      | elapsed:   25.2s\n",
      "[Parallel(n_jobs=8)]: Done 720 out of 720 | elapsed:   41.9s finished\n"
     ]
    },
    {
     "name": "stdout",
     "output_type": "stream",
     "text": [
      "The best parameters are: {'tvec__max_df': 0.7, 'tvec__max_features': 10000, 'tvec__min_df': 2, 'tvec__ngram_range': (1, 2), 'tvec__stop_words': None}\n",
      "The best training score was: 0.7940120734722822\n",
      "The test score is: 0.7883403361344538\n",
      "____________________\n",
      "Confusion Matrix for Test Set:\n"
     ]
    },
    {
     "data": {
      "image/png": "[encoded data removed]",
      "text/plain": [
       "<Figure size 432x288 with 2 Axes>"
      ]
     },
     "metadata": {
      "needs_background": "light"
     },
     "output_type": "display_data"
    },
    {
     "name": "stdout",
     "output_type": "stream",
     "text": [
      "The Accurracy score is 0.7883403361344538\n",
      "The Sensitivity score is 0.6014669926650367\n",
      "The Precision score is 0.8646748681898067\n",
      "____________________\n",
      "Receiver Operating Characteristic (ROC) curve:\n"
     ]
    },
    {
     "data": {
      "image/png": "[encoded data removed]",
      "text/plain": [
       "<Figure size 432x288 with 1 Axes>"
      ]
     },
     "metadata": {
      "needs_background": "light"
     },
     "output_type": "display_data"
    },
    {
     "data": {
      "text/plain": [
       "'Model scored!'"
      ]
     },
     "execution_count": 17,
     "metadata": {},
     "output_type": "execute_result"
    }
   ],
   "source": [
    "nltk_slist = stopwords.words('english')\n",
    "maxfeats = [10_000, 12_000, 15_000, 20_000] #try different volume of features\n",
    "mindf = [2, 4, 6] #minimum word frequency to be included in the model\n",
    "maxdf = [.5, .7, .9] #cutoff for words more frequent than percentage (float) threshhold\n",
    "ngrams = [(1,2), (1,3)] #range of combinations of words to try (minimum, maximum)\n",
    "swords = [None, nltk_slist] #try None and a standard stop word list\n",
    "scaler = 'tvec' #count vectorizer\n",
    "classifier = 'nb'\n",
    "\n",
    "pipe = ut.pipemaker(scaler, classifier)\n",
    "params = ut.set_params(scaler, maxfeats, mindf, maxdf, swords, ngrams)\n",
    "\n",
    "gs = GridSearchCV(pipe, params, #load hyperparameters\n",
    "                  n_jobs=8,        #using 8 cores to process\n",
    "                  cv=5, verbose=1) #using 5 folds and lower verbose to limit messages returned\n",
    "\n",
    "gs.fit(X_train, y_train)\n",
    "\n",
    "ut.score_model(gs, X_train, y_train, X_test, y_test)"
   ]
  },
  {
   "cell_type": "markdown",
   "metadata": {},
   "source": [
    "## Count Vectorizer, Logistic Regression"
   ]
  },
  {
   "cell_type": "code",
   "execution_count": 19,
   "metadata": {},
   "outputs": [
    {
     "name": "stdout",
     "output_type": "stream",
     "text": [
      "Fitting 5 folds for each of 144 candidates, totalling 720 fits\n"
     ]
    },
    {
     "name": "stderr",
     "output_type": "stream",
     "text": [
      "[Parallel(n_jobs=8)]: Using backend LokyBackend with 8 concurrent workers.\n",
      "[Parallel(n_jobs=8)]: Done  34 tasks      | elapsed:    4.2s\n",
      "[Parallel(n_jobs=8)]: Done 184 tasks      | elapsed:   15.3s\n",
      "[Parallel(n_jobs=8)]: Done 434 tasks      | elapsed:   35.3s\n",
      "[Parallel(n_jobs=8)]: Done 720 out of 720 | elapsed:   57.2s finished\n"
     ]
    },
    {
     "name": "stdout",
     "output_type": "stream",
     "text": [
      "The best parameters are: {'cvec__max_df': 0.5, 'cvec__max_features': 10000, 'cvec__min_df': 2, 'cvec__ngram_range': (1, 2), 'cvec__stop_words': ['i', 'me', 'my', 'myself', 'we', 'our', 'ours', 'ourselves', 'you', \"you're\", \"you've\", \"you'll\", \"you'd\", 'your', 'yours', 'yourself', 'yourselves', 'he', 'him', 'his', 'himself', 'she', \"she's\", 'her', 'hers', 'herself', 'it', \"it's\", 'its', 'itself', 'they', 'them', 'their', 'theirs', 'themselves', 'what', 'which', 'who', 'whom', 'this', 'that', \"that'll\", 'these', 'those', 'am', 'is', 'are', 'was', 'were', 'be', 'been', 'being', 'have', 'has', 'had', 'having', 'do', 'does', 'did', 'doing', 'a', 'an', 'the', 'and', 'but', 'if', 'or', 'because', 'as', 'until', 'while', 'of', 'at', 'by', 'for', 'with', 'about', 'against', 'between', 'into', 'through', 'during', 'before', 'after', 'above', 'below', 'to', 'from', 'up', 'down', 'in', 'out', 'on', 'off', 'over', 'under', 'again', 'further', 'then', 'once', 'here', 'there', 'when', 'where', 'why', 'how', 'all', 'any', 'both', 'each', 'few', 'more', 'most', 'other', 'some', 'such', 'no', 'nor', 'not', 'only', 'own', 'same', 'so', 'than', 'too', 'very', 's', 't', 'can', 'will', 'just', 'don', \"don't\", 'should', \"should've\", 'now', 'd', 'll', 'm', 'o', 're', 've', 'y', 'ain', 'aren', \"aren't\", 'couldn', \"couldn't\", 'didn', \"didn't\", 'doesn', \"doesn't\", 'hadn', \"hadn't\", 'hasn', \"hasn't\", 'haven', \"haven't\", 'isn', \"isn't\", 'ma', 'mightn', \"mightn't\", 'mustn', \"mustn't\", 'needn', \"needn't\", 'shan', \"shan't\", 'shouldn', \"shouldn't\", 'wasn', \"wasn't\", 'weren', \"weren't\", 'won', \"won't\", 'wouldn', \"wouldn't\"]}\n",
      "The best training score was: 0.792611022684191\n",
      "The test score is: 0.7836134453781513\n",
      "____________________\n",
      "Confusion Matrix for Test Set:\n"
     ]
    },
    {
     "data": {
      "image/png": "[encoded data removed]",
      "text/plain": [
       "<Figure size 432x288 with 2 Axes>"
      ]
     },
     "metadata": {
      "needs_background": "light"
     },
     "output_type": "display_data"
    },
    {
     "name": "stdout",
     "output_type": "stream",
     "text": [
      "The Accurracy score is 0.7836134453781513\n",
      "The Sensitivity score is 0.6784841075794621\n",
      "The Precision score is 0.7883522727272727\n",
      "____________________\n",
      "Receiver Operating Characteristic (ROC) curve:\n"
     ]
    },
    {
     "data": {
      "image/png": "[encoded data removed]",
      "text/plain": [
       "<Figure size 432x288 with 1 Axes>"
      ]
     },
     "metadata": {
      "needs_background": "light"
     },
     "output_type": "display_data"
    },
    {
     "data": {
      "text/plain": [
       "'Model scored!'"
      ]
     },
     "execution_count": 19,
     "metadata": {},
     "output_type": "execute_result"
    }
   ],
   "source": [
    "nltk_slist = stopwords.words('english')\n",
    "maxfeats = [10_000, 12_000, 15_000, 20_000] #try different volume of features\n",
    "mindf = [2, 4, 6] #minimum word frequency to be included in the model\n",
    "maxdf = [.5, .7, .9] #cutoff for words more frequent than percentage (float) threshhold\n",
    "ngrams = [(1,2), (1,3)] #range of combinations of words to try (minimum, maximum)\n",
    "swords = [None, nltk_slist] #try None and a standard stop word list\n",
    "scaler = 'cvec' #count vectorizer\n",
    "classifier = 'logreg'\n",
    "\n",
    "pipe = ut.pipemaker(scaler, classifier)\n",
    "params = ut.set_params(scaler, maxfeats, mindf, maxdf, swords, ngrams)\n",
    "\n",
    "gs = GridSearchCV(pipe, params, #load hyperparameters\n",
    "                  n_jobs=8,        #using 8 cores to process\n",
    "                  cv=5, verbose=1) #using 5 folds and lower verbose to limit messages returned\n",
    "\n",
    "gs.fit(X_train, y_train)\n",
    "\n",
    "ut.score_model(gs, X_train, y_train, X_test, y_test)"
   ]
  },
  {
   "cell_type": "markdown",
   "metadata": {},
   "source": [
    "## Count Vectorizer, Random Forest"
   ]
  },
  {
   "cell_type": "code",
   "execution_count": 20,
   "metadata": {},
   "outputs": [
    {
     "name": "stdout",
     "output_type": "stream",
     "text": [
      "Fitting 5 folds for each of 144 candidates, totalling 720 fits\n"
     ]
    },
    {
     "name": "stderr",
     "output_type": "stream",
     "text": [
      "[Parallel(n_jobs=8)]: Using backend LokyBackend with 8 concurrent workers.\n",
      "[Parallel(n_jobs=8)]: Done  34 tasks      | elapsed:   20.5s\n",
      "[Parallel(n_jobs=8)]: Done 184 tasks      | elapsed:  1.6min\n",
      "[Parallel(n_jobs=8)]: Done 434 tasks      | elapsed:  3.9min\n",
      "[Parallel(n_jobs=8)]: Done 720 out of 720 | elapsed:  6.3min finished\n"
     ]
    },
    {
     "name": "stdout",
     "output_type": "stream",
     "text": [
      "The best parameters are: {'tvec__max_df': 0.5, 'tvec__max_features': 12000, 'tvec__min_df': 4, 'tvec__ngram_range': (1, 3), 'tvec__stop_words': None}\n",
      "The best training score was: 0.7766716141400529\n",
      "The test score is: 0.7610294117647058\n",
      "____________________\n",
      "Confusion Matrix for Test Set:\n"
     ]
    },
    {
     "data": {
      "image/png": "[encoded data removed]",
      "text/plain": [
       "<Figure size 432x288 with 2 Axes>"
      ]
     },
     "metadata": {
      "needs_background": "light"
     },
     "output_type": "display_data"
    },
    {
     "name": "stdout",
     "output_type": "stream",
     "text": [
      "The Accurracy score is 0.7610294117647058\n",
      "The Sensitivity score is 0.5721271393643031\n",
      "The Precision score is 0.8167539267015707\n",
      "____________________\n",
      "Receiver Operating Characteristic (ROC) curve:\n"
     ]
    },
    {
     "data": {
      "image/png": "[encoded data removed]",
      "text/plain": [
       "<Figure size 432x288 with 1 Axes>"
      ]
     },
     "metadata": {
      "needs_background": "light"
     },
     "output_type": "display_data"
    },
    {
     "data": {
      "text/plain": [
       "'Model scored!'"
      ]
     },
     "execution_count": 20,
     "metadata": {},
     "output_type": "execute_result"
    }
   ],
   "source": [
    "nltk_slist = stopwords.words('english')\n",
    "maxfeats = [10_000, 12_000, 15_000, 20_000] #try different volume of features\n",
    "mindf = [2, 4, 6] #minimum word frequency to be included in the model\n",
    "maxdf = [.5, .7, .9] #cutoff for words more frequent than percentage (float) threshhold\n",
    "ngrams = [(1,2), (1,3)] #range of combinations of words to try (minimum, maximum)\n",
    "swords = [None, nltk_slist] #try None and a standard stop word list\n",
    "scaler = 'tvec' #count vectorizer\n",
    "classifier = 'rf'\n",
    "\n",
    "pipe = ut.pipemaker(scaler, classifier)\n",
    "params = ut.set_params(scaler, maxfeats, mindf, maxdf, swords, ngrams)\n",
    "\n",
    "gs = GridSearchCV(pipe, params, #load hyperparameters\n",
    "                  n_jobs=8,        #using 8 cores to process\n",
    "                  cv=5, verbose=1) #using 5 folds and lower verbose to limit messages returned\n",
    "\n",
    "gs.fit(X_train, y_train)\n",
    "\n",
    "ut.score_model(gs, X_train, y_train, X_test, y_test)"
   ]
  },
  {
   "cell_type": "markdown",
   "metadata": {},
   "source": [
    "## Neural Network"
   ]
  },
  {
   "cell_type": "code",
   "execution_count": 6,
   "metadata": {},
   "outputs": [],
   "source": [
    "from tensorflow.keras.models import Sequential\n",
    "from tensorflow.keras.layers import Dense\n",
    "from tensorflow.keras.regularizers import l2\n",
    "from tensorflow.keras.layers import Dropout\n",
    "from tensorflow.keras.callbacks import EarlyStopping"
   ]
  },
  {
   "cell_type": "code",
   "execution_count": 7,
   "metadata": {},
   "outputs": [],
   "source": [
    "cvec = CountVectorizer(\n",
    "stop_words=stopwords.words('english'),\n",
    "ngram_range=(1,2),\n",
    "max_df = .7,\n",
    "min_df = 2,\n",
    "max_features = 10_000,\n",
    ")"
   ]
  },
  {
   "cell_type": "code",
   "execution_count": 8,
   "metadata": {},
   "outputs": [],
   "source": [
    "X_train_vec = cvec.fit_transform(X_train)\n",
    "X_test_vec = cvec.transform(X_test)"
   ]
  },
  {
   "cell_type": "code",
   "execution_count": 9,
   "metadata": {},
   "outputs": [
    {
     "data": {
      "text/plain": [
       "(5709, 10000)"
      ]
     },
     "execution_count": 9,
     "metadata": {},
     "output_type": "execute_result"
    }
   ],
   "source": [
    "X_train_vec.shape"
   ]
  },
  {
   "cell_type": "code",
   "execution_count": 10,
   "metadata": {},
   "outputs": [
    {
     "data": {
      "text/plain": [
       "(1904, 10000)"
      ]
     },
     "execution_count": 10,
     "metadata": {},
     "output_type": "execute_result"
    }
   ],
   "source": [
    "X_test_vec.shape"
   ]
  },
  {
   "cell_type": "code",
   "execution_count": 11,
   "metadata": {},
   "outputs": [],
   "source": [
    "import scipy.sparse\n",
    "X_train_v = pd.DataFrame.sparse.from_spmatrix(X_train_vec)\n",
    "X_test_v = pd.DataFrame.sparse.from_spmatrix(X_test_vec)"
   ]
  },
  {
   "cell_type": "code",
   "execution_count": 12,
   "metadata": {},
   "outputs": [],
   "source": [
    "n_input = X_train_vec.shape[1] #save in case feature number changes for re-runs"
   ]
  },
  {
   "cell_type": "code",
   "execution_count": null,
   "metadata": {},
   "outputs": [],
   "source": [
    "model = Sequential()\n",
    "\n",
    "model.add(Dense(\n",
    "64, #nodes - should be between 1 and number of features... wide range of possibilities!\n",
    "input_dim = n_input, #input dimension (number of features), doesn't need to be a tuple the way \"input shape\" would\n",
    "activation = 'relu'#activation\n",
    "))\n",
    "model.add(Dropout(0.4))\n",
    "\n",
    "model.add(Dense(32, activation='relu'))\n",
    "model.add(Dropout(0.4)) # refers to the first layer\n",
    "\n",
    "#model.add(Dense(16, activation='relu'))\n",
    "\n",
    "model.add(Dense(1, activation='sigmoid')) #sigmoid for binary classification\n",
    "\n",
    "model.compile(loss = 'bce', #binary cross entropy\n",
    "             optimizer='adam')\n",
    "\n",
    "es = EarlyStopping(patience=5) #check whether loss is increasing after 5 epochs\n",
    "\n",
    "history = model.fit(X_train_v, y_train, validation_data = (X_test_v, y_test),\n",
    "                 #  callbacks=[es], \n",
    "                    epochs=100, verbose=0)\n",
    "          "
   ]
  },
  {
   "cell_type": "code",
   "execution_count": null,
   "metadata": {},
   "outputs": [],
   "source": [
    "# Visualize the loss\n",
    "train_loss = history.history['loss']\n",
    "test_loss = history.history['val_loss']\n",
    "\n",
    "plt.figure(figsize=(12, 8))\n",
    "plt.plot(train_loss, label='Training loss', color='navy')\n",
    "plt.plot(test_loss, label='Testing loss', color='skyblue')\n",
    "plt.title('NN Loss', size=30)\n",
    "plt.legend();"
   ]
  },
  {
   "cell_type": "code",
   "execution_count": null,
   "metadata": {},
   "outputs": [],
   "source": []
  }
 ],
 "metadata": {
  "kernelspec": {
   "display_name": "Python 3",
   "language": "python",
   "name": "python3"
  },
  "language_info": {
   "codemirror_mode": {
    "name": "ipython",
    "version": 3
   },
   "file_extension": ".py",
   "mimetype": "text/x-python",
   "name": "python",
   "nbconvert_exporter": "python",
   "pygments_lexer": "ipython3",
   "version": "3.8.3"
  }
 },
 "nbformat": 4,
 "nbformat_minor": 4
}
